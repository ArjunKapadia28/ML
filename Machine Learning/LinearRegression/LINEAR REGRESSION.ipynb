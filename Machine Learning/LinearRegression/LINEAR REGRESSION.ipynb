{
 "cells": [
  {
   "cell_type": "markdown",
   "metadata": {},
   "source": [
    "# Linear Regression"
   ]
  },
  {
   "cell_type": "code",
   "execution_count": null,
   "metadata": {},
   "outputs": [],
   "source": [
    "# import necessry libraries\n",
    "from sklearn.linear_model import LinearRegression\n",
    "from sklearn.model_selection import train_test_split\n",
    "from sklearn.metrics import mean_absolute_error, mean_squared_error, r2_score\n",
    "from sklearn.metrics import accuracy_score\n",
    "import pandas as pd\n",
    "from sklearn.preprocessing import StandardScaler\n",
    "from sklearn.model_selection import train_test_split\n",
    "from sklearn.linear_model import LinearRegression, LogisticRegression\n",
    "from sklearn.metrics import mean_squared_error, r2_score, accuracy_score, confusion_matrix, classification_report\n",
    "import pandas as pd\n",
    "from sklearn.model_selection import train_test_split\n",
    "from sklearn.svm import SVC\n",
    "from sklearn.metrics import accuracy_score, classification_report, confusion_matrix\n",
    "import seaborn as sns\n",
    "import matplotlib.pyplot as plt"
   ]
  },
  {
   "cell_type": "code",
   "execution_count": null,
   "metadata": {},
   "outputs": [],
   "source": [
    "# load the dataset\n",
    "df = pd.read_csv(\"winequality-red.csv\", sep = ';')"
   ]
  },
  {
   "cell_type": "code",
   "execution_count": null,
   "metadata": {},
   "outputs": [],
   "source": [
    "df"
   ]
  },
  {
   "cell_type": "code",
   "execution_count": null,
   "metadata": {},
   "outputs": [],
   "source": [
    "# Linear Regression\n",
    "X_linreg = df.drop(['quality'], axis=1)\n",
    "y_linreg = df['quality']\n",
    "X_linreg_train, X_linreg_test, y_linreg_train, y_linreg_test = train_test_split(X_linreg, y_linreg, test_size=0.2, random_state=42)\n",
    "\n",
    "# Standardize numerical features\n",
    "scaler = StandardScaler()\n",
    "X_linreg_train_scaled = scaler.fit_transform(X_linreg_train)\n",
    "X_linreg_test_scaled = scaler.transform(X_linreg_test)\n",
    "\n",
    "# Fit Linear Regression model\n",
    "linear_reg_model = LinearRegression()\n",
    "linear_reg_model.fit(X_linreg_train_scaled, y_linreg_train)\n",
    "y_linreg_pred = linear_reg_model.predict(X_linreg_test_scaled)\n",
    "\n",
    "# Evaluate Linear Regression model\n",
    "mse_linreg = mean_squared_error(y_linreg_test, y_linreg_pred)\n",
    "r2_linreg = r2_score(y_linreg_test, y_linreg_pred)\n",
    "print(\"Linear Regression Mean Squared Error:\", mse_linreg)\n",
    "print(\"Linear Regression R-squared:\", r2_linreg)\n",
    "\n",
    "# Logistic Regression\n",
    "X_logreg = df.drop(['quality'], axis=1)\n",
    "y_logreg = df['quality']\n",
    "X_logreg_train, X_logreg_test, y_logreg_train, y_logreg_test = train_test_split(X_logreg, y_logreg, test_size=0.2, random_state=42)\n",
    "\n",
    "# Standardize numerical features\n",
    "scaler = StandardScaler()\n",
    "X_logreg_train_scaled = scaler.fit_transform(X_logreg_train)\n",
    "X_logreg_test_scaled = scaler.transform(X_logreg_test)\n",
    "\n",
    "# Fit Logistic Regression model\n",
    "logistic_reg_model = LogisticRegression(random_state=42)\n",
    "logistic_reg_model.fit(X_logreg_train_scaled, y_logreg_train)\n",
    "y_logreg_pred = logistic_reg_model.predict(X_logreg_test_scaled)\n",
    "\n",
    "# Evaluate Logistic Regression model\n",
    "accuracy_logreg = accuracy_score(y_logreg_test, y_logreg_pred)\n",
    "conf_matrix_logreg = confusion_matrix(y_logreg_test, y_logreg_pred)\n",
    "class_report_logreg = classification_report(y_logreg_test, y_logreg_pred)\n",
    "print(\"Logistic Regression Accuracy:\", accuracy_logreg)\n",
    "print(\"Confusion Matrix:\\n\", conf_matrix_logreg)\n",
    "print(\"Classification Report:\\n\", class_report_logreg)"
   ]
  },
  {
   "cell_type": "code",
   "execution_count": null,
   "metadata": {},
   "outputs": [],
   "source": [
    "# Plot the confusion matrix\n",
    "plt.figure(figsize=(8, 6))\n",
    "sns.heatmap(conf_matrix_logreg, annot=True, fmt='g', cmap='Blues', \n",
    "            xticklabels=['Class 0', 'Class 1'], yticklabels=['Class 0', 'Class 1'])\n",
    "plt.title('Logistic Regression Confusion Matrix')\n",
    "plt.xlabel('Predicted')\n",
    "plt.ylabel('Actual')\n",
    "plt.show()"
   ]
  },
  {
   "cell_type": "code",
   "execution_count": null,
   "metadata": {},
   "outputs": [],
   "source": [
    "df.head()"
   ]
  },
  {
   "cell_type": "code",
   "execution_count": null,
   "metadata": {},
   "outputs": [],
   "source": [
    "df.info"
   ]
  },
  {
   "cell_type": "code",
   "execution_count": null,
   "metadata": {},
   "outputs": [],
   "source": [
    "df = df.dropna()\n",
    "df"
   ]
  },
  {
   "cell_type": "code",
   "execution_count": null,
   "metadata": {},
   "outputs": [],
   "source": [
    "print(df.isnull().sum())"
   ]
  }
 ],
 "metadata": {
  "kernelspec": {
   "display_name": "Python 3",
   "language": "python",
   "name": "python3"
  },
  "language_info": {
   "codemirror_mode": {
    "name": "ipython",
    "version": 3
   },
   "file_extension": ".py",
   "mimetype": "text/x-python",
   "name": "python",
   "nbconvert_exporter": "python",
   "pygments_lexer": "ipython3",
   "version": "3.9.13"
  }
 },
 "nbformat": 4,
 "nbformat_minor": 2
}
